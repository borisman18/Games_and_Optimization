{
 "cells": [
  {
   "cell_type": "code",
   "execution_count": 85,
   "metadata": {},
   "outputs": [],
   "source": [
    "import numpy as np\n",
    "import operator\n",
    "from functools import reduce"
   ]
  },
  {
   "cell_type": "code",
   "execution_count": 93,
   "metadata": {},
   "outputs": [
    {
     "data": {
      "text/plain": [
       "array([[1, 1, 2],\n",
       "       [2, 2, 2]])"
      ]
     },
     "execution_count": 93,
     "metadata": {},
     "output_type": "execute_result"
    }
   ],
   "source": [
    "a = np.array([[1,1], [2,2]])\n",
    "np.hstack((a, np.array([2,2]).reshape(-1,1)))"
   ]
  },
  {
   "cell_type": "code",
   "execution_count": 99,
   "metadata": {},
   "outputs": [],
   "source": [
    "class LinearProgrammingProblem:\n",
    "    def __init__(self, A, b, c, opt_direction):\n",
    "#         Input data validation\n",
    "        assert type(A) == np.ndarray and type(b) == np.ndarray \\\n",
    "        and type(c) == np.ndarray, 'Invalid input data type! Numpy arrays required!'\n",
    "        \n",
    "#         def product(xs):\n",
    "#             return reduce(operator.add_, xs, True)\n",
    "        \n",
    "#         assert type(rel_signs) == list and product([sign in () for sign in ... ])\n",
    "        \n",
    "        assert len(A.shape) == 2 and len(b.shape) == 1 and len(c.shape) == 1 \\\n",
    "        and A.shape[0] == b.shape[0] and A.shape[1] == c.shape[0], 'Shape(A) = shape(b) * shape(c)'\n",
    "        \n",
    "        assert opt_direction in ('min', 'max'), 'Optimization direction must be \\\"min\\\" or \\\"max\\\"'\n",
    "        \n",
    "        self.A = A\n",
    "        self.b = b\n",
    "        if opt_direction == 'min':\n",
    "            self.c = -c\n",
    "        else:\n",
    "            self.c = c\n",
    "            \n",
    "        self.opt_direction = 'max'\n",
    "        print('Input data is OK!')\n",
    "#         Basis and free variable setting\n",
    "        self.basis = b\n",
    "        self.free = np.zeros(b.shape[0])\n",
    "        self.simplex_matrix = np.hstack((b.reshape(-1,1), A)) # without minus!!!!! s - (...)\n",
    "    def target_function(self, x):\n",
    "        def sumproduct(*lists):\n",
    "            return sum(functools.reduce(operator.mul, data) for data in zip(*lists))\n",
    "        return sumproduct(x, self.c)\n",
    "         \n",
    "        \n",
    "        "
   ]
  },
  {
   "cell_type": "code",
   "execution_count": 100,
   "metadata": {},
   "outputs": [
    {
     "name": "stdout",
     "output_type": "stream",
     "text": [
      "Input data is OK!\n"
     ]
    }
   ],
   "source": [
    "A = np.array([\n",
    "    [3, 1, 1],\n",
    "    [1, 2, 0],\n",
    "    [0, 0.5, 2]\n",
    "]).astype(float)\n",
    "\n",
    "b = np.array([3, 8, 1]).astype(float)\n",
    "c = np.array([2, 6, 1]).astype(float)\n",
    "\n",
    "lpp = LinearProgrammingProblem(A, b, c, 'max')"
   ]
  },
  {
   "cell_type": "code",
   "execution_count": 101,
   "metadata": {},
   "outputs": [
    {
     "data": {
      "text/plain": [
       "array([[3. , 3. , 1. , 1. ],\n",
       "       [8. , 1. , 2. , 0. ],\n",
       "       [1. , 0. , 0.5, 2. ]])"
      ]
     },
     "execution_count": 101,
     "metadata": {},
     "output_type": "execute_result"
    }
   ],
   "source": [
    "lpp.simplex_matrix"
   ]
  }
 ],
 "metadata": {
  "kernelspec": {
   "display_name": "Python 3",
   "language": "python",
   "name": "python3"
  },
  "language_info": {
   "codemirror_mode": {
    "name": "ipython",
    "version": 3
   },
   "file_extension": ".py",
   "mimetype": "text/x-python",
   "name": "python",
   "nbconvert_exporter": "python",
   "pygments_lexer": "ipython3",
   "version": "3.6.0"
  }
 },
 "nbformat": 4,
 "nbformat_minor": 2
}
