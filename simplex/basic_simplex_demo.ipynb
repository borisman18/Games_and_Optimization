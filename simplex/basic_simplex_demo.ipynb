{
 "cells": [
  {
   "cell_type": "code",
   "execution_count": null,
   "metadata": {
    "collapsed": true
   },
   "outputs": [],
   "source": [
    "import numpy as np\n",
    "import operator\n",
    "import functools\n",
    "import warnings\n",
    "import LPP\n",
    "import LPPSolver\n",
    "\n",
    "warnings.filterwarnings('ignore')\n",
    "\n",
    "A = np.array([\n",
    "    [3, 1, 1],\n",
    "    [1, 2, 0],\n",
    "    [0, 0.5, 2]\n",
    "]).astype(float)\n",
    "\n",
    "b = np.array([3, 8, 1]).astype(float)\n",
    "c = np.array([2, 6, 7]).astype(float)\n",
    "\n",
    "def convert_to_alternative(problem):\n",
    "    A = problem.A\n",
    "    b = problem.b\n",
    "    c = problem.c\n",
    "    return LinearProgrammingProblem(-A.T, -c, -b, alternative=True)\n",
    "\n",
    "\n",
    "print('Basic simplex demo')\n",
    "lpp = LinearProgrammingProblem(A, b, c)\n",
    "solver = LPPSolver(lpp, verbose=False)\n",
    "solver.solve()\n",
    "\n"
   ]
  }
 ],
 "metadata": {
  "kernelspec": {
   "display_name": "Python 2",
   "language": "python",
   "name": "python2"
  },
  "language_info": {
   "codemirror_mode": {
    "name": "ipython",
    "version": 2
   },
   "file_extension": ".py",
   "mimetype": "text/x-python",
   "name": "python",
   "nbconvert_exporter": "python",
   "pygments_lexer": "ipython2",
   "version": "2.7.6"
  }
 },
 "nbformat": 4,
 "nbformat_minor": 0
}
