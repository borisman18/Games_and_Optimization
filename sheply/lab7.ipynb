{
 "cells": [
  {
   "cell_type": "code",
   "execution_count": 121,
   "metadata": {},
   "outputs": [],
   "source": [
    "import numpy as np\n",
    "import warnings\n",
    "from math import factorial\n",
    "warnings.filterwarnings('ignore')"
   ]
  },
  {
   "cell_type": "markdown",
   "metadata": {},
   "source": [
    "# Вариант 6"
   ]
  },
  {
   "cell_type": "code",
   "execution_count": 17,
   "metadata": {},
   "outputs": [],
   "source": [
    "X = np.array([\n",
    "    0,\n",
    "    4,\n",
    "    2,\n",
    "    2,\n",
    "    1,\n",
    "    7,\n",
    "    7,\n",
    "    5,\n",
    "    4,\n",
    "    4,\n",
    "    3,\n",
    "    11,\n",
    "    9,\n",
    "    10,\n",
    "    7,\n",
    "    13\n",
    "])"
   ]
  },
  {
   "cell_type": "code",
   "execution_count": 13,
   "metadata": {},
   "outputs": [],
   "source": [
    "coalitions = np.array([\n",
    "    [0,0,0,0],\n",
    "    [1,0,0,0],\n",
    "    [0,1,0,0],\n",
    "    [0,0,1,0],\n",
    "    [0,0,0,1],\n",
    "    [1,1,0,0],\n",
    "    [1,0,1,0],\n",
    "    [1,0,0,1],\n",
    "    [0,1,1,0],\n",
    "    [0,1,0,1],\n",
    "    [0,0,1,1],\n",
    "    [1,1,1,0],\n",
    "    [1,1,0,1],\n",
    "    [1,0,1,1],  \n",
    "    [0,1,1,1], \n",
    "    [1,1,1,1],\n",
    "])"
   ]
  },
  {
   "cell_type": "markdown",
   "metadata": {},
   "source": [
    "Проверка супераддитивности"
   ]
  },
  {
   "cell_type": "code",
   "execution_count": 46,
   "metadata": {
    "scrolled": false
   },
   "outputs": [],
   "source": [
    "for i in range(1, coalitions.shape[0]):\n",
    "    for j in range(i + 1, coalitions.shape[0]):\n",
    "        if 2 not in coalitions[i] + coalitions[j]:\n",
    "            if X[i] + X[j] > X[np.where(np.sum(coalitions == coalitions[i] + coalitions[j], axis=1) == 4)[0]]:\n",
    "                print('Не выполнено для {} и {} коалиций'.format(i, j))"
   ]
  },
  {
   "cell_type": "markdown",
   "metadata": {},
   "source": [
    "Проверка выпуклости"
   ]
  },
  {
   "cell_type": "code",
   "execution_count": 72,
   "metadata": {},
   "outputs": [
    {
     "name": "stdout",
     "output_type": "stream",
     "text": [
      "Не выполнено для 11 и 13 коалиций\n",
      "Не выполнено для 11 и 14 коалиций\n",
      "Не выполнено для 12 и 13 коалиций\n",
      "Не выполнено для 13 и 14 коалиций\n"
     ]
    }
   ],
   "source": [
    "for i in range(1, coalitions.shape[0]):\n",
    "    for j in range(i + 1, coalitions.shape[0]):\n",
    "        if X[i] + X[j] > X[np.where(np.sum(coalitions == np.sign(coalitions[i] + coalitions[j]), axis=1) == 4)[0]] +\\\n",
    "        X[np.where(np.sum(coalitions == coalitions[i] * coalitions[j], axis=1) == 4)[0]]:\n",
    "            print('Не выполнено для {} и {} коалиций'.format(i, j))"
   ]
  },
  {
   "cell_type": "code",
   "execution_count": 182,
   "metadata": {},
   "outputs": [],
   "source": [
    "def sheply_vector(X, coalitions):\n",
    "    N = int(np.log2(X.shape[0]))\n",
    "    result = np.zeros(N)\n",
    "    for i in range(N):\n",
    "        coalitions_w_player_idx = np.where(coalitions[:, i] == 1)[0]\n",
    "        coalitions_w_player = coalitions[coalitions_w_player_idx]\n",
    "\n",
    "        add_matrix = np.zeros(coalitions_w_player.shape).astype(int)\n",
    "        add_matrix[:, i] += 1\n",
    "        coalitions_wo_player = coalitions_w_player - add_matrix\n",
    "        coalitions_wo_player_idx = np.zeros((coalitions_wo_player.shape[0])).astype(int)\n",
    "        for j in range(coalitions_wo_player.shape[0]):\n",
    "            idx = np.where(np.sum(coalitions_wo_player[j] == coalitions, axis=1) == N)[0][0]\n",
    "            coalitions_wo_player_idx[j] = idx\n",
    "\n",
    "        for j in range(coalitions_w_player_idx.shape[0]):\n",
    "            k = np.sum(coalitions[coalitions_w_player[j]])\n",
    "\n",
    "            result[i] += factorial(k - 1) * factorial(N - k) / factorial(N) \\\n",
    "            * (X[coalitions_w_player_idx[j]] - X[coalitions_wo_player_idx[j]])\n",
    "    return result"
   ]
  },
  {
   "cell_type": "markdown",
   "metadata": {},
   "source": [
    "Групповая рационализация"
   ]
  },
  {
   "cell_type": "code",
   "execution_count": 187,
   "metadata": {},
   "outputs": [
    {
     "data": {
      "text/plain": [
       "13"
      ]
     },
     "execution_count": 187,
     "metadata": {},
     "output_type": "execute_result"
    }
   ],
   "source": [
    "int(np.sum(sheply_vector(X, coalitions)))"
   ]
  },
  {
   "cell_type": "markdown",
   "metadata": {},
   "source": [
    "Индивидуальная рационализация"
   ]
  },
  {
   "cell_type": "code",
   "execution_count": 191,
   "metadata": {},
   "outputs": [
    {
     "data": {
      "text/plain": [
       "array([ True,  True,  True,  True])"
      ]
     },
     "execution_count": 191,
     "metadata": {},
     "output_type": "execute_result"
    }
   ],
   "source": [
    "sheply_vector(X, coalitions) > X[1:5]"
   ]
  }
 ],
 "metadata": {
  "kernelspec": {
   "display_name": "Python 3",
   "language": "python",
   "name": "python3"
  },
  "language_info": {
   "codemirror_mode": {
    "name": "ipython",
    "version": 3
   },
   "file_extension": ".py",
   "mimetype": "text/x-python",
   "name": "python",
   "nbconvert_exporter": "python",
   "pygments_lexer": "ipython3",
   "version": "3.6.4"
  }
 },
 "nbformat": 4,
 "nbformat_minor": 2
}
